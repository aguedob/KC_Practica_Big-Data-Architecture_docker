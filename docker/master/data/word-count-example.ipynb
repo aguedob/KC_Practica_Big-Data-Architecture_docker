{
 "cells": [
  {
   "cell_type": "code",
   "execution_count": 18,
   "metadata": {},
   "outputs": [
    {
     "name": "stdout",
     "output_type": "stream",
     "text": [
      "hola --> 1\n",
      "adios --> 1\n"
     ]
    }
   ],
   "source": [
    "import operator\n",
    "import pyspark\n",
    "\n",
    "\n",
    "#Intialize a spark context\n",
    "sc=pyspark.SparkContext(\"local\", \"PySparkWordCount\")\n",
    "#Get a RDD containing lines from this script file  \n",
    "lines = sc.textFile(\"words.txt\")\n",
    "#Split each line into words and assign a frequency of 1 to each word\n",
    "words = lines.flatMap(lambda line: line.split(\" \")).map(lambda word: (word, 1))\n",
    "#count the frequency for words\n",
    "counts = words.reduceByKey(operator.add)\n",
    "#Sort the counts in descending order based on the word frequency\n",
    "sorted_counts =  counts.sortBy(lambda x: x[1], False)\n",
    "#Get an iterator over the counts to print a word and its frequency\n",
    "for word,count in sorted_counts.toLocalIterator():\n",
    "    print(u\"{} --> {}\".format(word, count))\n",
    "\n",
    "sc.stop()"
   ]
  }
 ],
 "metadata": {
  "kernelspec": {
   "display_name": "Python 3",
   "language": "python",
   "name": "python3"
  },
  "language_info": {
   "codemirror_mode": {
    "name": "ipython",
    "version": 3
   },
   "file_extension": ".py",
   "mimetype": "text/x-python",
   "name": "python",
   "nbconvert_exporter": "python",
   "pygments_lexer": "ipython3",
   "version": "3.6.9"
  }
 },
 "nbformat": 4,
 "nbformat_minor": 2
}